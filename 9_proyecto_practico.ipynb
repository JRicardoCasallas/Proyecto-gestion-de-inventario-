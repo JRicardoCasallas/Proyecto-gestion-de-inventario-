{
 "cells": [
  {
   "cell_type": "markdown",
   "id": "2740a65d",
   "metadata": {},
   "source": [
    "🛒 Sistema de control de inventario\n",
    "\n",
    "📋 Funcionalidades\n",
    "\n",
    "✅ Mostrar un mensaje de bienvenida usando print()\n",
    "✅ Pedir al usuario que ingrese el nombre del producto, la cantidad y el precio unitario usando input()\n",
    "✅ Almacenar esta información en variables\n",
    "✅ Realizar el cálculo del valor total del inventario inicial (cantidad x precio)\n",
    "▶️ 1 cell hidden ...\n",
    "\n"
   ]
  },
  {
   "cell_type": "code",
   "execution_count": null,
   "id": "545b6d6d",
   "metadata": {},
   "outputs": [
    {
     "name": "stdout",
     "output_type": "stream",
     "text": [
      " Sistema de Control de Inventario\n",
      "\n",
      " Inventario Inicial\n",
      "Producto: televisor\n",
      "Cantidad: 30\n",
      "Precio unitario: $ 320.0\n",
      "Valor total del inventario: $ 9600.0\n"
     ]
    }
   ],
   "source": [
    "#Mensaje de bienvenida\n",
    "print(\" Sistema de Control de Inventario\")\n",
    "\n",
    "\n",
    "#Solicitando información al usuario\n",
    "producto = input(\"Ingrese el nombre del producto: \")\n",
    "cantidad = int(input(\"Ingrese la cantidad inicial en inventario: \"))\n",
    "precio_unitario = float(input(\"Ingrese el precio unitario del producto: \"))\n",
    "\n",
    "\n",
    "#Cálculo del · valor total del inventario\n",
    "valor_total = cantidad * precio_unitario\n",
    "\n",
    "\n",
    "#Mostrando los datos . formateados\n",
    "print(\"\\n Inventario Inicial\")\n",
    "\n",
    "print(\"Producto:\", producto)\n",
    "print(\"Cantidad:\", cantidad)\n",
    "print(\"Precio unitario: $\", precio_unitario)\n",
    "print(\"Valor total del inventario: $\", valor_total)"
   ]
  }
 ],
 "metadata": {
  "kernelspec": {
   "display_name": "Python 3",
   "language": "python",
   "name": "python3"
  },
  "language_info": {
   "codemirror_mode": {
    "name": "ipython",
    "version": 3
   },
   "file_extension": ".py",
   "mimetype": "text/x-python",
   "name": "python",
   "nbconvert_exporter": "python",
   "pygments_lexer": "ipython3",
   "version": "3.13.3"
  }
 },
 "nbformat": 4,
 "nbformat_minor": 5
}
